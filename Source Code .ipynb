{
 "cells": [
  {
   "cell_type": "code",
   "execution_count": 1,
   "metadata": {},
   "outputs": [],
   "source": [
    "#Import libraries\n",
    "import numpy as np\n",
    "import matplotlib.pyplot as plt\n",
    "import pandas as pd\n",
    "\n",
    "#Import data 2018\n",
    "dataset=pd.read_csv('mlbnew.txt')\n",
    "\n",
    "\n",
    "# Split \"Pos Summary\" column to obtain Original Position\n",
    "dataset[['OriginalPosition',\n",
    "             '2ndPosition',\n",
    "             '3rdPosition',\n",
    "             '4thPosition',\n",
    "             '5thPosition',\n",
    "             '6thPosition',\n",
    "             '7thPosition']] = dataset['Pos Summary'].str.split('-',expand=True)\n",
    "\n",
    "\n",
    "dataset=dataset.drop(['Pos Summary'],axis=1)\n",
    "# dataset=dataset.drop(dataset.index[-1])\n",
    "\n",
    "\n",
    "\n",
    "# dataset.isnull().any()\n",
    "for column in dataset.columns[14:20]:\n",
    "    dataset[column].fillna(0,inplace=True)  \n",
    "\n",
    "dataset.isnull().any()\n",
    "\n",
    "X=dataset.iloc[:,5:21].values\n",
    "y=dataset.OriginalPosition\n",
    "\n",
    "\n",
    "\n",
    "\n"
   ]
  },
  {
   "cell_type": "code",
   "execution_count": 2,
   "metadata": {},
   "outputs": [
    {
     "data": {
      "text/plain": [
       "<matplotlib.axes._subplots.AxesSubplot at 0x1c108fe1240>"
      ]
     },
     "execution_count": 2,
     "metadata": {},
     "output_type": "execute_result"
    },
    {
     "data": {
      "image/png": "[encoded data removed]",
      "text/plain": [
       "<Figure size 432x288 with 2 Axes>"
      ]
     },
     "metadata": {
      "needs_background": "light"
     },
     "output_type": "display_data"
    }
   ],
   "source": [
    "import seaborn as sns\n",
    "Var_Corr = dataset.corr()\n",
    "# plot the heatmap and annotation on it\n",
    "sns.heatmap(Var_Corr, xticklabels=Var_Corr.columns, yticklabels=Var_Corr.columns, annot=False)"
   ]
  },
  {
   "cell_type": "code",
   "execution_count": 3,
   "metadata": {},
   "outputs": [
    {
     "name": "stdout",
     "output_type": "stream",
     "text": [
      "[[ 0.5021924  -0.72028022 -0.59505465 ...  0.06586001 -0.60709035\n",
      "  -0.77190939]\n",
      " [-0.02175237 -0.72028022 -0.59505465 ...  0.06586001 -0.58335986\n",
      "  -0.74997517]\n",
      " [ 0.09214867 -0.0041352  -0.03187404 ... -0.30820304  0.32235366\n",
      "   0.24583827]\n",
      " ...\n",
      " [-1.06964192 -0.69790068 -0.59505465 ...  0.06586001 -1.12916102\n",
      "  -0.81577782]\n",
      " [ 1.57286216  1.18197999  1.04551497 ... -0.21468728  0.40541036\n",
      "   0.43447254]\n",
      " [-0.47735652 -0.72028022 -0.59505465 ...  0.06586001 -0.56358446\n",
      "  -0.71926727]]\n",
      "[[0 0 0 ... 0 1 0]\n",
      " [0 0 0 ... 0 1 0]\n",
      " [0 0 1 ... 0 0 0]\n",
      " ...\n",
      " [0 0 0 ... 0 1 0]\n",
      " [0 1 0 ... 0 0 0]\n",
      " [0 0 0 ... 0 1 0]]\n",
      "(3258, 16)\n",
      "(3258, 7)\n",
      "(815, 16)\n",
      "(815, 7)\n"
     ]
    }
   ],
   "source": [
    "from sklearn.preprocessing import LabelBinarizer\n",
    "from sklearn.model_selection import train_test_split\n",
    "from sklearn.preprocessing import StandardScaler\n",
    "\n",
    "labelbinarizer_y=LabelBinarizer()\n",
    "y=labelbinarizer_y.fit_transform(y)\n",
    "\n",
    "X_train,X_test,y_train,y_test=train_test_split(X,y, test_size=0.2, random_state=0)\n",
    "\n",
    "\n",
    "sc_X=StandardScaler()\n",
    "X_train=sc_X.fit_transform(X_train)\n",
    "X_test=sc_X.transform(X_test)\n",
    "\n",
    "\n",
    "print(X_train)\n",
    "print(y_train)\n",
    "\n",
    "print(np.shape(X_train))\n",
    "print(np.shape(y_train))\n",
    "print(np.shape(X_test))\n",
    "print(np.shape(y_test))\n"
   ]
  },
  {
   "cell_type": "code",
   "execution_count": 4,
   "metadata": {},
   "outputs": [
    {
     "name": "stderr",
     "output_type": "stream",
     "text": [
      "Using TensorFlow backend.\n"
     ]
    }
   ],
   "source": [
    "#Importing keras and classes\n",
    "import keras\n",
    "from keras.models import Sequential\n",
    "from keras.layers import Dense\n",
    "from keras.optimizers import Adam, SGD, RMSprop\n",
    "\n",
    "# Initializing the ANN\n",
    "classifier=Sequential()\n",
    "\n",
    "#Initial Layer and First Hidden Layer\n",
    "classifier.add(Dense(input_dim=16,kernel_initializer ='uniform',activation ='relu',units=11))\n",
    "\n",
    "#Second Hidden Layer\n",
    "classifier.add(Dense(units=11,kernel_initializer ='uniform',activation ='relu'))\n",
    "\n",
    "#Output Layer\n",
    "classifier.add(Dense(units=7,kernel_initializer ='uniform',activation ='softmax'))\n",
    "\n",
    "#Compile ANN\n",
    "classifier.compile(optimizer='Adam',\n",
    "loss='categorical_crossentropy',\n",
    "metrics=['accuracy'])\n",
    "\n"
   ]
  },
  {
   "cell_type": "code",
   "execution_count": 5,
   "metadata": {},
   "outputs": [
    {
     "name": "stdout",
     "output_type": "stream",
     "text": [
      "Train on 3258 samples, validate on 815 samples\n",
      "Epoch 1/50\n",
      "3258/3258 [==============================] - 2s 537us/step - loss: 1.7511 - acc: 0.6194 - val_loss: 1.2093 - val_acc: 0.7178\n",
      "Epoch 2/50\n",
      "3258/3258 [==============================] - 0s 136us/step - loss: 0.8576 - acc: 0.7170 - val_loss: 0.6666 - val_acc: 0.7620\n",
      "Epoch 3/50\n",
      "3258/3258 [==============================] - 0s 119us/step - loss: 0.6093 - acc: 0.7701 - val_loss: 0.5186 - val_acc: 0.8196\n",
      "Epoch 4/50\n",
      "3258/3258 [==============================] - 0s 129us/step - loss: 0.5007 - acc: 0.8207 - val_loss: 0.4528 - val_acc: 0.8466\n",
      "Epoch 5/50\n",
      "3258/3258 [==============================] - 0s 134us/step - loss: 0.4402 - acc: 0.8435 - val_loss: 0.4112 - val_acc: 0.8564\n",
      "Epoch 6/50\n",
      "3258/3258 [==============================] - 0s 119us/step - loss: 0.4015 - acc: 0.8567 - val_loss: 0.3935 - val_acc: 0.8552\n",
      "Epoch 7/50\n",
      "3258/3258 [==============================] - 0s 127us/step - loss: 0.3731 - acc: 0.8646 - val_loss: 0.3623 - val_acc: 0.8712\n",
      "Epoch 8/50\n",
      "3258/3258 [==============================] - 0s 128us/step - loss: 0.3518 - acc: 0.8729 - val_loss: 0.3514 - val_acc: 0.8773\n",
      "Epoch 9/50\n",
      "3258/3258 [==============================] - 0s 124us/step - loss: 0.3364 - acc: 0.8785 - val_loss: 0.3438 - val_acc: 0.8724\n",
      "Epoch 10/50\n",
      "3258/3258 [==============================] - 0s 128us/step - loss: 0.3250 - acc: 0.8791 - val_loss: 0.3382 - val_acc: 0.8736\n",
      "Epoch 11/50\n",
      "3258/3258 [==============================] - 0s 120us/step - loss: 0.3160 - acc: 0.8843 - val_loss: 0.3317 - val_acc: 0.8847\n",
      "Epoch 12/50\n",
      "3258/3258 [==============================] - 0s 126us/step - loss: 0.3080 - acc: 0.8864 - val_loss: 0.3284 - val_acc: 0.8798\n",
      "Epoch 13/50\n",
      "3258/3258 [==============================] - 0s 100us/step - loss: 0.3010 - acc: 0.8870 - val_loss: 0.3196 - val_acc: 0.8883\n",
      "Epoch 14/50\n",
      "3258/3258 [==============================] - 0s 101us/step - loss: 0.2959 - acc: 0.8907 - val_loss: 0.3229 - val_acc: 0.8847\n",
      "Epoch 15/50\n",
      "3258/3258 [==============================] - 0s 99us/step - loss: 0.2906 - acc: 0.8910 - val_loss: 0.3132 - val_acc: 0.8945\n",
      "Epoch 16/50\n",
      "3258/3258 [==============================] - 0s 98us/step - loss: 0.2861 - acc: 0.8920 - val_loss: 0.3103 - val_acc: 0.8908\n",
      "Epoch 17/50\n",
      "3258/3258 [==============================] - 0s 89us/step - loss: 0.2814 - acc: 0.8929 - val_loss: 0.3065 - val_acc: 0.8920\n",
      "Epoch 18/50\n",
      "3258/3258 [==============================] - 0s 121us/step - loss: 0.2771 - acc: 0.8984 - val_loss: 0.3054 - val_acc: 0.8908\n",
      "Epoch 19/50\n",
      "3258/3258 [==============================] - 0s 94us/step - loss: 0.2741 - acc: 0.8996 - val_loss: 0.3032 - val_acc: 0.8908\n",
      "Epoch 20/50\n",
      "3258/3258 [==============================] - 0s 102us/step - loss: 0.2711 - acc: 0.8990 - val_loss: 0.3042 - val_acc: 0.8871\n",
      "Epoch 21/50\n",
      "3258/3258 [==============================] - 0s 123us/step - loss: 0.2670 - acc: 0.9021 - val_loss: 0.3009 - val_acc: 0.8945\n",
      "Epoch 22/50\n",
      "3258/3258 [==============================] - 0s 113us/step - loss: 0.2636 - acc: 0.9052 - val_loss: 0.2998 - val_acc: 0.8896\n",
      "Epoch 23/50\n",
      "3258/3258 [==============================] - 0s 120us/step - loss: 0.2608 - acc: 0.9042 - val_loss: 0.2922 - val_acc: 0.8920\n",
      "Epoch 24/50\n",
      "3258/3258 [==============================] - 0s 112us/step - loss: 0.2576 - acc: 0.9018 - val_loss: 0.2908 - val_acc: 0.8969\n",
      "Epoch 25/50\n",
      "3258/3258 [==============================] - 0s 100us/step - loss: 0.2542 - acc: 0.9061 - val_loss: 0.2950 - val_acc: 0.8883\n",
      "Epoch 26/50\n",
      "3258/3258 [==============================] - 0s 95us/step - loss: 0.2515 - acc: 0.9039 - val_loss: 0.2884 - val_acc: 0.8933\n",
      "Epoch 27/50\n",
      "3258/3258 [==============================] - 0s 145us/step - loss: 0.2492 - acc: 0.9039 - val_loss: 0.2866 - val_acc: 0.8969\n",
      "Epoch 28/50\n",
      "3258/3258 [==============================] - 0s 105us/step - loss: 0.2475 - acc: 0.9073 - val_loss: 0.2854 - val_acc: 0.8920\n",
      "Epoch 29/50\n",
      "3258/3258 [==============================] - 0s 122us/step - loss: 0.2448 - acc: 0.9088 - val_loss: 0.2844 - val_acc: 0.8920\n",
      "Epoch 30/50\n",
      "3258/3258 [==============================] - 0s 99us/step - loss: 0.2430 - acc: 0.9058 - val_loss: 0.2936 - val_acc: 0.8920\n",
      "Epoch 31/50\n",
      "3258/3258 [==============================] - 0s 112us/step - loss: 0.2413 - acc: 0.9104 - val_loss: 0.2777 - val_acc: 0.8982\n",
      "Epoch 32/50\n",
      "3258/3258 [==============================] - 0s 101us/step - loss: 0.2386 - acc: 0.9095 - val_loss: 0.2805 - val_acc: 0.8982\n",
      "Epoch 33/50\n",
      "3258/3258 [==============================] - 0s 103us/step - loss: 0.2368 - acc: 0.9088 - val_loss: 0.2761 - val_acc: 0.8969\n",
      "Epoch 34/50\n",
      "3258/3258 [==============================] - 0s 106us/step - loss: 0.2347 - acc: 0.9113 - val_loss: 0.2768 - val_acc: 0.8969\n",
      "Epoch 35/50\n",
      "3258/3258 [==============================] - 0s 111us/step - loss: 0.2320 - acc: 0.9101 - val_loss: 0.2805 - val_acc: 0.8969\n",
      "Epoch 36/50\n",
      "3258/3258 [==============================] - 0s 105us/step - loss: 0.2305 - acc: 0.9110 - val_loss: 0.2744 - val_acc: 0.8994\n",
      "Epoch 37/50\n",
      "3258/3258 [==============================] - 0s 96us/step - loss: 0.2284 - acc: 0.9110 - val_loss: 0.2717 - val_acc: 0.9006\n",
      "Epoch 38/50\n",
      "3258/3258 [==============================] - 0s 89us/step - loss: 0.2278 - acc: 0.9153 - val_loss: 0.2698 - val_acc: 0.9006\n",
      "Epoch 39/50\n",
      "3258/3258 [==============================] - 0s 103us/step - loss: 0.2263 - acc: 0.9147 - val_loss: 0.2704 - val_acc: 0.9006\n",
      "Epoch 40/50\n",
      "3258/3258 [==============================] - 0s 96us/step - loss: 0.2244 - acc: 0.9131 - val_loss: 0.2711 - val_acc: 0.9043\n",
      "Epoch 41/50\n",
      "3258/3258 [==============================] - 0s 91us/step - loss: 0.2235 - acc: 0.9147 - val_loss: 0.2681 - val_acc: 0.9018\n",
      "Epoch 42/50\n",
      "3258/3258 [==============================] - 0s 105us/step - loss: 0.2214 - acc: 0.9122 - val_loss: 0.2654 - val_acc: 0.9018\n",
      "Epoch 43/50\n",
      "3258/3258 [==============================] - 0s 95us/step - loss: 0.2208 - acc: 0.9165 - val_loss: 0.2623 - val_acc: 0.9031\n",
      "Epoch 44/50\n",
      "3258/3258 [==============================] - 0s 85us/step - loss: 0.2196 - acc: 0.9174 - val_loss: 0.2636 - val_acc: 0.9006\n",
      "Epoch 45/50\n",
      "3258/3258 [==============================] - 0s 90us/step - loss: 0.2177 - acc: 0.9162 - val_loss: 0.2646 - val_acc: 0.9006\n",
      "Epoch 46/50\n",
      "3258/3258 [==============================] - 0s 107us/step - loss: 0.2169 - acc: 0.9141 - val_loss: 0.2638 - val_acc: 0.9043\n",
      "Epoch 47/50\n",
      "3258/3258 [==============================] - 0s 92us/step - loss: 0.2155 - acc: 0.9174 - val_loss: 0.2619 - val_acc: 0.9055\n",
      "Epoch 48/50\n",
      "3258/3258 [==============================] - 0s 89us/step - loss: 0.2145 - acc: 0.9162 - val_loss: 0.2586 - val_acc: 0.9055\n",
      "Epoch 49/50\n",
      "3258/3258 [==============================] - 0s 94us/step - loss: 0.2139 - acc: 0.9165 - val_loss: 0.2660 - val_acc: 0.8969\n",
      "Epoch 50/50\n",
      "3258/3258 [==============================] - 0s 95us/step - loss: 0.2143 - acc: 0.9187 - val_loss: 0.2712 - val_acc: 0.8982\n",
      "dict_keys(['val_loss', 'val_acc', 'loss', 'acc'])\n"
     ]
    },
    {
     "data": {
      "image/png": "[encoded data removed]",
      "text/plain": [
       "<Figure size 432x288 with 1 Axes>"
      ]
     },
     "metadata": {
      "needs_background": "light"
     },
     "output_type": "display_data"
    },
    {
     "data": {
      "image/png": "[encoded data removed]",
      "text/plain": [
       "<Figure size 432x288 with 1 Axes>"
      ]
     },
     "metadata": {
      "needs_background": "light"
     },
     "output_type": "display_data"
    }
   ],
   "source": [
    "#Fit Training Set to ANN\n",
    "history = classifier.fit(X_train,y_train,batch_size=25,epochs=50, validation_data=(X_test,y_test))\n",
    "\n",
    "print(history.history.keys())\n",
    "#  \"Accuracy\"\n",
    "plt.plot(history.history['acc'])\n",
    "plt.plot(history.history['val_acc'])\n",
    "plt.title('model accuracy')\n",
    "plt.ylabel('accuracy')\n",
    "plt.xlabel('epoch')\n",
    "plt.legend(['train', 'validation'], loc='upper left')\n",
    "plt.show()\n",
    "# \"Loss\"\n",
    "plt.plot(history.history['loss'])\n",
    "plt.plot(history.history['val_loss'])\n",
    "plt.title('model loss')\n",
    "plt.ylabel('loss')\n",
    "plt.xlabel('epoch')\n",
    "plt.legend(['train', 'validation'], loc='upper left')\n",
    "plt.show()"
   ]
  },
  {
   "cell_type": "code",
   "execution_count": 6,
   "metadata": {},
   "outputs": [],
   "source": [
    "classifier.save(\"our_model\")\n",
    "classifier.save_weights(\"our_model_weights\")"
   ]
  },
  {
   "cell_type": "code",
   "execution_count": null,
   "metadata": {},
   "outputs": [],
   "source": [
    "from keras.wrappers.scikit_learn import KerasClassifier\n",
    "from sklearn.model_selection import cross_val_score\n",
    "\n",
    "#Selecting parameters to improve and the options\n",
    "parameters={'batch_size': [25,32],\n",
    "            'epochs':[100,500],\n",
    "            'optimizer':['adam','rmsprop']}\n",
    "\n",
    "from sklearn.model_selection import GridSearchCV\n",
    "def build_classifier(optimizer):\n",
    "    classifier=Sequential()\n",
    "    classifier.add(Dense(units=11,kernel_initializer ='uniform' ,activation ='relu',input_dim=16))\n",
    "    classifier.add(Dense(units=11,kernel_initializer ='uniform' ,activation ='relu'))\n",
    "    classifier.add(Dense(units=7,kernel_initializer ='uniform' ,activation ='sigmoid'))\n",
    "    classifier.compile(optimizer=optimizer,\n",
    "    loss='categorical_crossentropy',metrics=['accuracy'])\n",
    "    return classifier\n",
    "    \n",
    "#Assign KerasClassifier    \n",
    "classifier=KerasClassifier(build_fn=build_classifier)\n",
    "\n",
    "#Setting up Grid Search\n",
    "grid_search=GridSearchCV(estimator=classifier,\n",
    "                         param_grid=parameters,\n",
    "                         scoring='accuracy',\n",
    "                         cv=10)\n",
    "\n",
    "#Fit and initiate Grid Search on our ANN\n",
    "grid_search=grid_search.fit(X_train,labelbinarizer_y.inverse_transform(y_train))\n",
    "\n",
    "#Get best parameters\n",
    "best_parameters=grid_search.best_params_\n",
    "\n",
    "#Get best accuracy\n",
    "best_accuracy=grid_search.best_score_"
   ]
  },
  {
   "cell_type": "code",
   "execution_count": 7,
   "metadata": {},
   "outputs": [
    {
     "name": "stdout",
     "output_type": "stream",
     "text": [
      "{'batch_size': 25, 'epochs': 500, 'optimizer': 'adam'}\n",
      "0.9220380601596071\n"
     ]
    }
   ],
   "source": [
    "print(best_parameters)\n",
    "print(best_accuracy)"
   ]
  },
  {
   "cell_type": "code",
   "execution_count": 7,
   "metadata": {},
   "outputs": [
    {
     "name": "stdout",
     "output_type": "stream",
     "text": [
      "['OF']\n"
     ]
    }
   ],
   "source": [
    "#Apply Test Set to ANN\n",
    "y_pred=classifier.predict(X_test)\n",
    "y_pred=(y_pred>.5)\n",
    "\n",
    "#Testing a Entry from 2015 Baseball Season (Daniel Alvarez)\n",
    "player=[12,10,6,81.0,17,16,1,0,1,1.0,0,-6,-1,-15,1.89,1.42]\n",
    "\n",
    "#Transforming player entry and running through the ANN\n",
    "new_entry=classifier.predict(sc_X.transform(np.array([player])))\n",
    "\n",
    "#Inverse transforming the resulting prediction to string class\n",
    "new_entry=labelbinarizer_y.inverse_transform(new_entry)\n",
    "print(new_entry)"
   ]
  },
  {
   "cell_type": "code",
   "execution_count": 9,
   "metadata": {},
   "outputs": [
    {
     "name": "stdout",
     "output_type": "stream",
     "text": [
      "Games played on Pitch:\n",
      "1\n",
      "Games Started:\n",
      "2\n",
      "Complete Game:\n",
      "3\n",
      "innings played in field:\n",
      "4\n",
      "defensive chances:\n",
      "5\n",
      "putouts:\n",
      "6\n",
      "Assists:\n",
      "7\n",
      "Errors Committed:\n",
      "8\n",
      "Double Plays Turned:\n",
      "9\n",
      "Field Percentage:\n",
      "0\n",
      "Total Zone Total Fielding Runs Above Average:\n",
      "1\n",
      "Total Zone Total Fielding Runs Above Average per 1200 innings:\n",
      "2\n",
      "BIS Defensive Runs saved above avg:\n",
      "3\n",
      "BIS Defensive Runs saved above avg per 1200 innings:\n",
      "4\n",
      "Range Factor per 9 innings:\n",
      "5\n",
      "Range Factor per game:\n",
      "6\n",
      "The predicted position is: \n",
      "['3B']\n"
     ]
    },
    {
     "name": "stderr",
     "output_type": "stream",
     "text": [
      "C:\\Users\\ajju_\\Anaconda3\\envs\\deep learning\\lib\\site-packages\\sklearn\\utils\\validation.py:590: DataConversionWarning: Data with input dtype <U1 was converted to float64 by StandardScaler.\n",
      "  warnings.warn(msg, DataConversionWarning)\n"
     ]
    }
   ],
   "source": [
    "print(\"Games played on Pitch:\")\n",
    "a=input()\n",
    "print(\"Games Started:\")\n",
    "b=input()\n",
    "print(\"Complete Game:\")\n",
    "c=input()\n",
    "print(\"innings played in field:\")\n",
    "d=input()\n",
    "print(\"defensive chances:\")\n",
    "e=input()\n",
    "print(\"putouts:\")\n",
    "f=input()\n",
    "print(\"Assists:\")\n",
    "g=input()\n",
    "print(\"Errors Committed:\")\n",
    "h=input()\n",
    "print(\"Double Plays Turned:\")\n",
    "i=input()\n",
    "print(\"Field Percentage:\")\n",
    "j=input()\n",
    "print(\"Total Zone Total Fielding Runs Above Average:\")\n",
    "k=input()\n",
    "print(\"Total Zone Total Fielding Runs Above Average per 1200 innings:\")\n",
    "l=input()\n",
    "print(\"BIS Defensive Runs saved above avg:\")\n",
    "m=input()\n",
    "print(\"BIS Defensive Runs saved above avg per 1200 innings:\")\n",
    "n=input()\n",
    "print(\"Range Factor per 9 innings:\")\n",
    "o=input()\n",
    "print(\"Range Factor per game:\")\n",
    "p=input()\n",
    "\n",
    "player1=[a,b,c,d,e,f,g,h,i,j,k,l,m,n,o,p]\n",
    "new_entry1=classifier.predict(sc_X.transform(np.array([player1])))\n",
    "new_entry1=labelbinarizer_y.inverse_transform(new_entry1)\n",
    "print(\"The predicted position is: \")\n",
    "print(new_entry1)"
   ]
  },
  {
   "cell_type": "code",
   "execution_count": null,
   "metadata": {},
   "outputs": [],
   "source": []
  }
 ],
 "metadata": {
  "kernelspec": {
   "display_name": "Python 3",
   "language": "python",
   "name": "python3"
  },
  "language_info": {
   "codemirror_mode": {
    "name": "ipython",
    "version": 3
   },
   "file_extension": ".py",
   "mimetype": "text/x-python",
   "name": "python",
   "nbconvert_exporter": "python",
   "pygments_lexer": "ipython3",
   "version": "3.6.7"
  }
 },
 "nbformat": 4,
 "nbformat_minor": 2
}
